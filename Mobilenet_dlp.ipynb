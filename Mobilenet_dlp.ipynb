{
  "cells": [
    {
      "cell_type": "code",
      "execution_count": 1,
      "metadata": {
        "colab": {
          "base_uri": "https://localhost:8080/"
        },
        "id": "nu22PsX_uj_E",
        "outputId": "b4fde06d-bc6c-4cf7-df58-86a46d54d3a3"
      },
      "outputs": [
        {
          "output_type": "stream",
          "name": "stdout",
          "text": [
            "Downloading fruits, 1379678841 bytes compressed\n",
            "[==================================================] 1379678841 bytes downloaded\n",
            "Downloaded and uncompressed: fruits\n",
            "Downloading banananaaaa, 252268 bytes compressed\n",
            "[==================================================] 252268 bytes downloaded\n",
            "Downloaded and uncompressed: banananaaaa\n",
            "Downloading good-and-bad-fruits-ieee-extended, 212292963 bytes compressed\n",
            "[==================================================] 212292963 bytes downloaded\n",
            "Downloaded and uncompressed: good-and-bad-fruits-ieee-extended\n",
            "Downloading sample-fruitsveg, 167051 bytes compressed\n",
            "[==================================================] 167051 bytes downloaded\n",
            "Downloaded and uncompressed: sample-fruitsveg\n",
            "Data source import complete.\n"
          ]
        }
      ],
      "source": [
        "\n",
        "# IMPORTANT: RUN THIS CELL IN ORDER TO IMPORT YOUR KAGGLE DATA SOURCES\n",
        "# TO THE CORRECT LOCATION (/kaggle/input) IN YOUR NOTEBOOK,\n",
        "# THEN FEEL FREE TO DELETE THIS CELL.\n",
        "# NOTE: THIS NOTEBOOK ENVIRONMENT DIFFERS FROM KAGGLE'S PYTHON\n",
        "# ENVIRONMENT SO THERE MAY BE MISSING LIBRARIES USED BY YOUR\n",
        "# NOTEBOOK.\n",
        "\n",
        "import os\n",
        "import sys\n",
        "from tempfile import NamedTemporaryFile\n",
        "from urllib.request import urlopen\n",
        "from urllib.parse import unquote, urlparse\n",
        "from urllib.error import HTTPError\n",
        "from zipfile import ZipFile\n",
        "import tarfile\n",
        "import shutil\n",
        "\n",
        "CHUNK_SIZE = 40960\n",
        "DATA_SOURCE_MAPPING = 'fruits:https%3A%2F%2Fstorage.googleapis.com%2Fkaggle-data-sets%2F5857%2F2609027%2Fbundle%2Farchive.zip%3FX-Goog-Algorithm%3DGOOG4-RSA-SHA256%26X-Goog-Credential%3Dgcp-kaggle-com%2540kaggle-161607.iam.gserviceaccount.com%252F20240508%252Fauto%252Fstorage%252Fgoog4_request%26X-Goog-Date%3D20240508T192151Z%26X-Goog-Expires%3D259200%26X-Goog-SignedHeaders%3Dhost%26X-Goog-Signature%3D8a43a1a83dc0ff44926f59ff850e954ed0aff954baff7de6f13abd8abf10fe7b216001c4452f09de850820e547a50024075aeafb565e318a9012d8aed6b730e68dd4a89d2740195de1f2c0fe9af0762ddbe257438792c31cc940503db0bebaa31aa9e33145e86237203d0fa39fe6e06eaf3f0a1f1747a665c92d30ac5f8120bc3677093b5d5bfe1fe25fe24fe1fb1ae60e07640c5c3a799b764bf17ba1bd5d3255df5f2e0a88dd0fb3ce8be027b5686e5bf6600325eafa27bb3919b3c2b8658c836e9e69c921f43ebc7d1a052d2ef1d4c491a2d45f60ede8d6adc78055af6e5551bbde84eb2935391c799c23e01a66cc689c6b6538cc4ca1fb5521d4b7932d91,banananaaaa:https%3A%2F%2Fstorage.googleapis.com%2Fkaggle-data-sets%2F1767986%2F2902808%2Fbundle%2Farchive.zip%3FX-Goog-Algorithm%3DGOOG4-RSA-SHA256%26X-Goog-Credential%3Dgcp-kaggle-com%2540kaggle-161607.iam.gserviceaccount.com%252F20240508%252Fauto%252Fstorage%252Fgoog4_request%26X-Goog-Date%3D20240508T192151Z%26X-Goog-Expires%3D259200%26X-Goog-SignedHeaders%3Dhost%26X-Goog-Signature%3D3eb3739faf78486b583770c708dbd3ddc5e83e3ef61fe19c7ea5ea5ed592cc8ea252f57163420fcc621d20cc5ec9b7fc17b9e3a13b9fbc3c526df87be96b716f697db67627e3a7c0bd734cc6c27b922990273d09f227b73d23571c2491f1c2fde5a79a97c4929691a0a983af2b45c3f5166e91c595bdcad6df3fa5407fcfcda6c1cd2de2ed2103420da2c7b809ff93f6645713e3928dbeeded321e26dc11bbc0de62040eaea2e85507bb2c33013ce4b08fa4fea1dcd6011ebeb2ea9d9670ec38f2b5c47b4428658bcb3638c0463c2d8a3378aae2501b3b2df706f3a78c020c5b9f4332367b51f076d51d2b3c7467516f7d06b09b310057ef092c717faaab5851,good-and-bad-fruits-ieee-extended:https%3A%2F%2Fstorage.googleapis.com%2Fkaggle-data-sets%2F2008587%2F3322713%2Fbundle%2Farchive.zip%3FX-Goog-Algorithm%3DGOOG4-RSA-SHA256%26X-Goog-Credential%3Dgcp-kaggle-com%2540kaggle-161607.iam.gserviceaccount.com%252F20240508%252Fauto%252Fstorage%252Fgoog4_request%26X-Goog-Date%3D20240508T192151Z%26X-Goog-Expires%3D259200%26X-Goog-SignedHeaders%3Dhost%26X-Goog-Signature%3D714a469ce3320cd0f2586556c67df5ca62721f1fc6e18c2398acbe2d64dcef368c7692e1ae92e091a7038965208fc7ab3e833ff2c06af42e3d486c843dde8892480000657f967f050bfeecc02afea401db31a291de240521dc71d18e40658fa0d7e44e88498c6932c6ec0ac193382edba4b942a5f0e4352cabec67529c803554379a35f3d400570c103ad926d1e43ecf853336f95c1f80f4f17b3bca9dfd14d695457b3aee4d2f7551e8637e50a8837d26199e367d27603a67cc54d1f969e92074fbdc840b67a7f894442cf6b4d0f4ace6c603060a7e2936a13202276142fc6c9a63a895fa8c6cab941c6e4e770fa7ad20557adf6c96b03d7dd3259b49ec4ebe,sample-fruitsveg:https%3A%2F%2Fstorage.googleapis.com%2Fkaggle-data-sets%2F2034784%2F3374672%2Fbundle%2Farchive.zip%3FX-Goog-Algorithm%3DGOOG4-RSA-SHA256%26X-Goog-Credential%3Dgcp-kaggle-com%2540kaggle-161607.iam.gserviceaccount.com%252F20240508%252Fauto%252Fstorage%252Fgoog4_request%26X-Goog-Date%3D20240508T192151Z%26X-Goog-Expires%3D259200%26X-Goog-SignedHeaders%3Dhost%26X-Goog-Signature%3D74e6b5c433ba80d6b57096b53d2b635670e0f3ac8980fa7daadce77149e482d15a37d40676f7e841491e0f9963022bfdb12e52ca90e1aee4c8e713f6d006a4f19cd36717f78e6dc8b2665225363a3bc5c094644d061ca5a82afbc911769681a10ea512c8114dba5850aac4a072d556e9ffa187f31147d2b9694d2fe4018fe4b9f150b35735a315ac520a0e9037fc7d56ab0d98319a8cde2173a73a38c1c674e4a0cc1cc9fd31acf138f57e645d4ef0734128b574ae91f21785a2fa3040739ad8f2520feecd1f58e8724611f72d8bb4236d2b5961b95a6e3f50e7275c5eed108c55f3df9918b691cac85890f460d8d878e8aa3df8946d15176eb0df5ac6b9f7ef'\n",
        "\n",
        "KAGGLE_INPUT_PATH='/kaggle/input'\n",
        "KAGGLE_WORKING_PATH='/kaggle/working'\n",
        "KAGGLE_SYMLINK='kaggle'\n",
        "\n",
        "!umount /kaggle/input/ 2> /dev/null\n",
        "shutil.rmtree('/kaggle/input', ignore_errors=True)\n",
        "os.makedirs(KAGGLE_INPUT_PATH, 0o777, exist_ok=True)\n",
        "os.makedirs(KAGGLE_WORKING_PATH, 0o777, exist_ok=True)\n",
        "\n",
        "try:\n",
        "  os.symlink(KAGGLE_INPUT_PATH, os.path.join(\"..\", 'input'), target_is_directory=True)\n",
        "except FileExistsError:\n",
        "  pass\n",
        "try:\n",
        "  os.symlink(KAGGLE_WORKING_PATH, os.path.join(\"..\", 'working'), target_is_directory=True)\n",
        "except FileExistsError:\n",
        "  pass\n",
        "\n",
        "for data_source_mapping in DATA_SOURCE_MAPPING.split(','):\n",
        "    directory, download_url_encoded = data_source_mapping.split(':')\n",
        "    download_url = unquote(download_url_encoded)\n",
        "    filename = urlparse(download_url).path\n",
        "    destination_path = os.path.join(KAGGLE_INPUT_PATH, directory)\n",
        "    try:\n",
        "        with urlopen(download_url) as fileres, NamedTemporaryFile() as tfile:\n",
        "            total_length = fileres.headers['content-length']\n",
        "            print(f'Downloading {directory}, {total_length} bytes compressed')\n",
        "            dl = 0\n",
        "            data = fileres.read(CHUNK_SIZE)\n",
        "            while len(data) > 0:\n",
        "                dl += len(data)\n",
        "                tfile.write(data)\n",
        "                done = int(50 * dl / int(total_length))\n",
        "                sys.stdout.write(f\"\\r[{'=' * done}{' ' * (50-done)}] {dl} bytes downloaded\")\n",
        "                sys.stdout.flush()\n",
        "                data = fileres.read(CHUNK_SIZE)\n",
        "            if filename.endswith('.zip'):\n",
        "              with ZipFile(tfile) as zfile:\n",
        "                zfile.extractall(destination_path)\n",
        "            else:\n",
        "              with tarfile.open(tfile.name) as tarfile:\n",
        "                tarfile.extractall(destination_path)\n",
        "            print(f'\\nDownloaded and uncompressed: {directory}')\n",
        "    except HTTPError as e:\n",
        "        print(f'Failed to load (likely expired) {download_url} to path {destination_path}')\n",
        "        continue\n",
        "    except OSError as e:\n",
        "        print(f'Failed to load {download_url} to path {destination_path}')\n",
        "        continue\n",
        "\n",
        "print('Data source import complete.')\n"
      ]
    },
    {
      "cell_type": "code",
      "source": [
        "# # Add the transformation of image\n",
        "# data_transforms = transforms.Compose([\n",
        "#     transforms.ToTensor(),\n",
        "#     transforms.Resize((224, 224)),\n",
        "#     transforms.Normalize((0.5,)*3, (0.5,)*3)\n",
        "# ])\n",
        "\n",
        "# Path for training and validation dataset\n",
        "#training_path = \"../input/fruits/fruits-360/Training\"\n",
        "#validating_path = \"../input/fruits/fruits-360/Test\"\n",
        "\n",
        "train_path = \"../input/good-and-bad-fruits-ieee-extended/IEEEFRUITSDATA_test&train/train\"\n",
        "valid_path = \"../input/good-and-bad-fruits-ieee-extended/IEEEFRUITSDATA_test&train/test\""
      ],
      "metadata": {
        "id": "ED4tsYrsWWbK"
      },
      "execution_count": 3,
      "outputs": []
    },
    {
      "cell_type": "code",
      "execution_count": 4,
      "metadata": {
        "id": "L7j2pHYaLcku"
      },
      "outputs": [],
      "source": [
        "# import the libraries as shown below\n",
        "\n",
        "from tensorflow.keras.layers import Input, Lambda, Dense, Flatten\n",
        "from tensorflow.keras.models import Model\n",
        "from tensorflow.keras.applications.mobilenet import MobileNet\n",
        "from tensorflow.keras.preprocessing import image\n",
        "from tensorflow.keras.preprocessing.image import ImageDataGenerator,load_img\n",
        "from tensorflow.keras.models import Sequential\n",
        "import numpy as np\n",
        "from glob import glob\n",
        "import matplotlib.pyplot as plt\n",
        "from sklearn.metrics import classification_report\n",
        "from sklearn.metrics import confusion_matrix\n",
        "from sklearn.metrics import accuracy_score\n",
        "import seaborn as sns\n",
        "from sklearn.metrics import confusion_matrix\n",
        "import itertools\n",
        "from keras.models import load_model\n",
        "import os\n",
        "import tensorflow as tf\n"
      ]
    },
    {
      "cell_type": "code",
      "execution_count": 5,
      "metadata": {
        "id": "BN6Eh8zcLckx"
      },
      "outputs": [],
      "source": [
        "# re-size all the images to this\n",
        "IMAGE_SIZE = [224, 224]\n",
        "\n",
        "# train_path = r'/content/drive/MyDrive/dlp_dataset/train'\n",
        "# valid_path = r'/content/drive/MyDrive/dlp_dataset/test'\n"
      ]
    },
    {
      "cell_type": "code",
      "execution_count": 6,
      "metadata": {
        "colab": {
          "base_uri": "https://localhost:8080/"
        },
        "id": "DuPkNc-tLckz",
        "outputId": "ee8cb88e-a1f8-4280-9b44-2692f4257c1c"
      },
      "outputs": [
        {
          "output_type": "stream",
          "name": "stdout",
          "text": [
            "Downloading data from https://storage.googleapis.com/tensorflow/keras-applications/mobilenet/mobilenet_1_0_224_tf_no_top.h5\n",
            "17225924/17225924 [==============================] - 0s 0us/step\n"
          ]
        }
      ],
      "source": [
        "# Import the mobilenet library as shown below and add preprocessing layer to the front of MobileNet\n",
        "# Here we will be using imagenet weights\n",
        "\n",
        "mobilenet = MobileNet(input_shape=IMAGE_SIZE + [3], weights='imagenet', include_top=False)\n"
      ]
    },
    {
      "cell_type": "code",
      "execution_count": 7,
      "metadata": {
        "id": "pMSTB8AvLck0"
      },
      "outputs": [],
      "source": [
        "# don't train existing weights\n",
        "for layer in mobilenet.layers:\n",
        "    layer.trainable = False"
      ]
    },
    {
      "cell_type": "code",
      "execution_count": 15,
      "metadata": {
        "id": "QY5p15lVLck0"
      },
      "outputs": [],
      "source": [
        "# useful for getting number of output classes\n",
        "folders = glob(r'../input/good-and-bad-fruits-ieee-extended/IEEEFRUITSDATA_test&train/train/*')"
      ]
    },
    {
      "cell_type": "code",
      "execution_count": 16,
      "metadata": {
        "id": "z5suh9s1Lck0"
      },
      "outputs": [],
      "source": [
        "# our layers - you can add more if you want\n",
        "x = Flatten()(mobilenet.output)\n",
        "prediction = Dense(len(folders), activation='softmax')(x)"
      ]
    },
    {
      "cell_type": "code",
      "execution_count": 17,
      "metadata": {
        "id": "Yy4nFtX9Lck1"
      },
      "outputs": [],
      "source": [
        "# create a model object\n",
        "model_mobilenet_final = Model(inputs=mobilenet.input, outputs=prediction)"
      ]
    },
    {
      "cell_type": "code",
      "execution_count": 18,
      "metadata": {
        "id": "28t8nOubLck1"
      },
      "outputs": [],
      "source": [
        "# tell the model what cost and optimization method to use\n",
        "model_mobilenet_final.compile(\n",
        "  loss='categorical_crossentropy',\n",
        "  optimizer='adam',\n",
        "  metrics=['accuracy']\n",
        ")"
      ]
    },
    {
      "cell_type": "code",
      "execution_count": 19,
      "metadata": {
        "id": "FmZH0M84Lck2"
      },
      "outputs": [],
      "source": [
        "# Use the Image Data Generator to import the images from the dataset\n",
        "train_datagen = ImageDataGenerator(rescale = 1./255,\n",
        "                                   shear_range = 0.2,\n",
        "                                   zoom_range = 0.2,\n",
        "                                   horizontal_flip = True,)\n",
        "\n",
        "test_datagen = ImageDataGenerator(rescale = 1./255)"
      ]
    },
    {
      "cell_type": "code",
      "execution_count": 20,
      "metadata": {
        "colab": {
          "base_uri": "https://localhost:8080/"
        },
        "id": "w_jfc5opLck2",
        "outputId": "7023c105-06ae-4cc9-fc22-958dbac5a24e"
      },
      "outputs": [
        {
          "output_type": "stream",
          "name": "stdout",
          "text": [
            "Found 9036 images belonging to 12 classes.\n",
            "Found 3013 images belonging to 12 classes.\n"
          ]
        }
      ],
      "source": [
        "# Make sure you provide the same target size as initialied for the image size\n",
        "training_set = train_datagen.flow_from_directory(train_path,\n",
        "                                                 target_size = (224, 224),\n",
        "                                                 batch_size = 32,\n",
        "                                                 class_mode = 'categorical')\n",
        "\n",
        "test_set = test_datagen.flow_from_directory(valid_path,\n",
        "                                            target_size = (224, 224),\n",
        "                                            batch_size = 32,\n",
        "                                            class_mode = 'categorical')\n"
      ]
    },
    {
      "cell_type": "code",
      "execution_count": 21,
      "metadata": {
        "colab": {
          "base_uri": "https://localhost:8080/"
        },
        "id": "2jYpHUsLLck4",
        "outputId": "623292e0-fec1-44dc-9746-ea7e5e144ebc"
      },
      "outputs": [
        {
          "output_type": "stream",
          "name": "stdout",
          "text": [
            "Epoch 1/10\n",
            "283/283 [==============================] - 120s 416ms/step - loss: 0.6781 - accuracy: 0.9254 - val_loss: 0.3544 - val_accuracy: 0.9711\n",
            "Epoch 2/10\n",
            "283/283 [==============================] - 122s 432ms/step - loss: 0.2717 - accuracy: 0.9751 - val_loss: 0.4176 - val_accuracy: 0.9744\n",
            "Epoch 3/10\n",
            "283/283 [==============================] - 116s 409ms/step - loss: 0.2067 - accuracy: 0.9833 - val_loss: 0.2310 - val_accuracy: 0.9864\n",
            "Epoch 4/10\n",
            "283/283 [==============================] - 115s 407ms/step - loss: 0.1531 - accuracy: 0.9892 - val_loss: 0.3420 - val_accuracy: 0.9788\n",
            "Epoch 5/10\n",
            "283/283 [==============================] - 115s 407ms/step - loss: 0.1554 - accuracy: 0.9888 - val_loss: 0.1852 - val_accuracy: 0.9927\n",
            "Epoch 6/10\n",
            "283/283 [==============================] - 117s 415ms/step - loss: 0.1107 - accuracy: 0.9928 - val_loss: 0.1773 - val_accuracy: 0.9904\n",
            "Epoch 7/10\n",
            "283/283 [==============================] - 118s 416ms/step - loss: 0.0766 - accuracy: 0.9938 - val_loss: 0.1765 - val_accuracy: 0.9930\n",
            "Epoch 8/10\n",
            "283/283 [==============================] - 117s 414ms/step - loss: 0.1239 - accuracy: 0.9909 - val_loss: 0.3345 - val_accuracy: 0.9874\n",
            "Epoch 9/10\n",
            "283/283 [==============================] - 121s 426ms/step - loss: 0.1234 - accuracy: 0.9926 - val_loss: 0.2431 - val_accuracy: 0.9914\n",
            "Epoch 10/10\n",
            "283/283 [==============================] - 123s 433ms/step - loss: 0.1168 - accuracy: 0.9937 - val_loss: 0.5673 - val_accuracy: 0.9798\n",
            "model saved to Disk.\n"
          ]
        },
        {
          "output_type": "stream",
          "name": "stderr",
          "text": [
            "/usr/local/lib/python3.10/dist-packages/keras/src/engine/training.py:3103: UserWarning: You are saving your model as an HDF5 file via `model.save()`. This file format is considered legacy. We recommend using instead the native Keras format, e.g. `model.save('my_model.keras')`.\n",
            "  saving_api.save_model(\n"
          ]
        }
      ],
      "source": [
        "# fit the model\n",
        "# Run the cell. It will take some time to execute\n",
        "history_mobilenet_final = model_mobilenet_final.fit(\n",
        "  training_set,\n",
        "  validation_data=test_set,\n",
        "  epochs=10,\n",
        "  steps_per_epoch=len(training_set),\n",
        "  validation_steps=len(test_set)\n",
        ")\n",
        "\n",
        "model_mobilenet_final.save('mobilenet_dlp.h5')\n",
        "print(\"model saved to Disk.\")"
      ]
    },
    {
      "cell_type": "code",
      "execution_count": 22,
      "metadata": {
        "id": "NEHf4T24Lck4",
        "colab": {
          "base_uri": "https://localhost:8080/",
          "height": 882
        },
        "outputId": "5cff6eee-7beb-4ab8-e717-64e6c9d87eef"
      },
      "outputs": [
        {
          "output_type": "display_data",
          "data": {
            "text/plain": [
              "<Figure size 640x480 with 1 Axes>"
            ],
            "image/png": "[encoded data removed]"
          },
          "metadata": {}
        },
        {
          "output_type": "display_data",
          "data": {
            "text/plain": [
              "<Figure size 640x480 with 1 Axes>"
            ],
            "image/png": "[encoded data removed]"
          },
          "metadata": {}
        }
      ],
      "source": [
        "#plot the loss\n",
        "plt.plot(history_mobilenet_final.history['loss'], label='train loss')\n",
        "plt.plot(history_mobilenet_final.history['val_loss'], label='val loss')\n",
        "plt.legend()\n",
        "plt.xlabel(\"Epochs\")\n",
        "plt.ylabel(\"Loss\")\n",
        "plt.show()\n",
        "\n",
        "# plot the accuracy\n",
        "plt.plot(history_mobilenet_final.history['accuracy'], label='val acc')\n",
        "plt.plot(history_mobilenet_final.history['val_accuracy'], label='train acc')\n",
        "plt.legend()\n",
        "plt.xlabel(\"Epochs\")\n",
        "plt.ylabel(\"Accuracy\")\n",
        "plt.show()"
      ]
    },
    {
      "cell_type": "code",
      "execution_count": 23,
      "metadata": {
        "id": "rVFozkBiLck5",
        "colab": {
          "base_uri": "https://localhost:8080/"
        },
        "outputId": "81945d2d-02e1-4621-d4e3-93831d9038ee"
      },
      "outputs": [
        {
          "output_type": "stream",
          "name": "stdout",
          "text": [
            "model loaded.\n"
          ]
        }
      ],
      "source": [
        "# dirname = os.path.join(os.path.dirname(__file__))\n",
        "model_mobilenet_new_final = load_model('mobilenet_dlp.h5')\n",
        "print(\"model loaded.\")"
      ]
    },
    {
      "cell_type": "code",
      "execution_count": 24,
      "metadata": {
        "id": "SOVvLevHLck6",
        "colab": {
          "base_uri": "https://localhost:8080/"
        },
        "outputId": "d176d910-5b11-418e-dbe1-107be2a08b35"
      },
      "outputs": [
        {
          "output_type": "stream",
          "name": "stdout",
          "text": [
            "Model: \"model_1\"\n",
            "_________________________________________________________________\n",
            " Layer (type)                Output Shape              Param #   \n",
            "=================================================================\n",
            " input_1 (InputLayer)        [(None, 224, 224, 3)]     0         \n",
            "                                                                 \n",
            " conv1 (Conv2D)              (None, 112, 112, 32)      864       \n",
            "                                                                 \n",
            " conv1_bn (BatchNormalizati  (None, 112, 112, 32)      128       \n",
            " on)                                                             \n",
            "                                                                 \n",
            " conv1_relu (ReLU)           (None, 112, 112, 32)      0         \n",
            "                                                                 \n",
            " conv_dw_1 (DepthwiseConv2D  (None, 112, 112, 32)      288       \n",
            " )                                                               \n",
            "                                                                 \n",
            " conv_dw_1_bn (BatchNormali  (None, 112, 112, 32)      128       \n",
            " zation)                                                         \n",
            "                                                                 \n",
            " conv_dw_1_relu (ReLU)       (None, 112, 112, 32)      0         \n",
            "                                                                 \n",
            " conv_pw_1 (Conv2D)          (None, 112, 112, 64)      2048      \n",
            "                                                                 \n",
            " conv_pw_1_bn (BatchNormali  (None, 112, 112, 64)      256       \n",
            " zation)                                                         \n",
            "                                                                 \n",
            " conv_pw_1_relu (ReLU)       (None, 112, 112, 64)      0         \n",
            "                                                                 \n",
            " conv_pad_2 (ZeroPadding2D)  (None, 113, 113, 64)      0         \n",
            "                                                                 \n",
            " conv_dw_2 (DepthwiseConv2D  (None, 56, 56, 64)        576       \n",
            " )                                                               \n",
            "                                                                 \n",
            " conv_dw_2_bn (BatchNormali  (None, 56, 56, 64)        256       \n",
            " zation)                                                         \n",
            "                                                                 \n",
            " conv_dw_2_relu (ReLU)       (None, 56, 56, 64)        0         \n",
            "                                                                 \n",
            " conv_pw_2 (Conv2D)          (None, 56, 56, 128)       8192      \n",
            "                                                                 \n",
            " conv_pw_2_bn (BatchNormali  (None, 56, 56, 128)       512       \n",
            " zation)                                                         \n",
            "                                                                 \n",
            " conv_pw_2_relu (ReLU)       (None, 56, 56, 128)       0         \n",
            "                                                                 \n",
            " conv_dw_3 (DepthwiseConv2D  (None, 56, 56, 128)       1152      \n",
            " )                                                               \n",
            "                                                                 \n",
            " conv_dw_3_bn (BatchNormali  (None, 56, 56, 128)       512       \n",
            " zation)                                                         \n",
            "                                                                 \n",
            " conv_dw_3_relu (ReLU)       (None, 56, 56, 128)       0         \n",
            "                                                                 \n",
            " conv_pw_3 (Conv2D)          (None, 56, 56, 128)       16384     \n",
            "                                                                 \n",
            " conv_pw_3_bn (BatchNormali  (None, 56, 56, 128)       512       \n",
            " zation)                                                         \n",
            "                                                                 \n",
            " conv_pw_3_relu (ReLU)       (None, 56, 56, 128)       0         \n",
            "                                                                 \n",
            " conv_pad_4 (ZeroPadding2D)  (None, 57, 57, 128)       0         \n",
            "                                                                 \n",
            " conv_dw_4 (DepthwiseConv2D  (None, 28, 28, 128)       1152      \n",
            " )                                                               \n",
            "                                                                 \n",
            " conv_dw_4_bn (BatchNormali  (None, 28, 28, 128)       512       \n",
            " zation)                                                         \n",
            "                                                                 \n",
            " conv_dw_4_relu (ReLU)       (None, 28, 28, 128)       0         \n",
            "                                                                 \n",
            " conv_pw_4 (Conv2D)          (None, 28, 28, 256)       32768     \n",
            "                                                                 \n",
            " conv_pw_4_bn (BatchNormali  (None, 28, 28, 256)       1024      \n",
            " zation)                                                         \n",
            "                                                                 \n",
            " conv_pw_4_relu (ReLU)       (None, 28, 28, 256)       0         \n",
            "                                                                 \n",
            " conv_dw_5 (DepthwiseConv2D  (None, 28, 28, 256)       2304      \n",
            " )                                                               \n",
            "                                                                 \n",
            " conv_dw_5_bn (BatchNormali  (None, 28, 28, 256)       1024      \n",
            " zation)                                                         \n",
            "                                                                 \n",
            " conv_dw_5_relu (ReLU)       (None, 28, 28, 256)       0         \n",
            "                                                                 \n",
            " conv_pw_5 (Conv2D)          (None, 28, 28, 256)       65536     \n",
            "                                                                 \n",
            " conv_pw_5_bn (BatchNormali  (None, 28, 28, 256)       1024      \n",
            " zation)                                                         \n",
            "                                                                 \n",
            " conv_pw_5_relu (ReLU)       (None, 28, 28, 256)       0         \n",
            "                                                                 \n",
            " conv_pad_6 (ZeroPadding2D)  (None, 29, 29, 256)       0         \n",
            "                                                                 \n",
            " conv_dw_6 (DepthwiseConv2D  (None, 14, 14, 256)       2304      \n",
            " )                                                               \n",
            "                                                                 \n",
            " conv_dw_6_bn (BatchNormali  (None, 14, 14, 256)       1024      \n",
            " zation)                                                         \n",
            "                                                                 \n",
            " conv_dw_6_relu (ReLU)       (None, 14, 14, 256)       0         \n",
            "                                                                 \n",
            " conv_pw_6 (Conv2D)          (None, 14, 14, 512)       131072    \n",
            "                                                                 \n",
            " conv_pw_6_bn (BatchNormali  (None, 14, 14, 512)       2048      \n",
            " zation)                                                         \n",
            "                                                                 \n",
            " conv_pw_6_relu (ReLU)       (None, 14, 14, 512)       0         \n",
            "                                                                 \n",
            " conv_dw_7 (DepthwiseConv2D  (None, 14, 14, 512)       4608      \n",
            " )                                                               \n",
            "                                                                 \n",
            " conv_dw_7_bn (BatchNormali  (None, 14, 14, 512)       2048      \n",
            " zation)                                                         \n",
            "                                                                 \n",
            " conv_dw_7_relu (ReLU)       (None, 14, 14, 512)       0         \n",
            "                                                                 \n",
            " conv_pw_7 (Conv2D)          (None, 14, 14, 512)       262144    \n",
            "                                                                 \n",
            " conv_pw_7_bn (BatchNormali  (None, 14, 14, 512)       2048      \n",
            " zation)                                                         \n",
            "                                                                 \n",
            " conv_pw_7_relu (ReLU)       (None, 14, 14, 512)       0         \n",
            "                                                                 \n",
            " conv_dw_8 (DepthwiseConv2D  (None, 14, 14, 512)       4608      \n",
            " )                                                               \n",
            "                                                                 \n",
            " conv_dw_8_bn (BatchNormali  (None, 14, 14, 512)       2048      \n",
            " zation)                                                         \n",
            "                                                                 \n",
            " conv_dw_8_relu (ReLU)       (None, 14, 14, 512)       0         \n",
            "                                                                 \n",
            " conv_pw_8 (Conv2D)          (None, 14, 14, 512)       262144    \n",
            "                                                                 \n",
            " conv_pw_8_bn (BatchNormali  (None, 14, 14, 512)       2048      \n",
            " zation)                                                         \n",
            "                                                                 \n",
            " conv_pw_8_relu (ReLU)       (None, 14, 14, 512)       0         \n",
            "                                                                 \n",
            " conv_dw_9 (DepthwiseConv2D  (None, 14, 14, 512)       4608      \n",
            " )                                                               \n",
            "                                                                 \n",
            " conv_dw_9_bn (BatchNormali  (None, 14, 14, 512)       2048      \n",
            " zation)                                                         \n",
            "                                                                 \n",
            " conv_dw_9_relu (ReLU)       (None, 14, 14, 512)       0         \n",
            "                                                                 \n",
            " conv_pw_9 (Conv2D)          (None, 14, 14, 512)       262144    \n",
            "                                                                 \n",
            " conv_pw_9_bn (BatchNormali  (None, 14, 14, 512)       2048      \n",
            " zation)                                                         \n",
            "                                                                 \n",
            " conv_pw_9_relu (ReLU)       (None, 14, 14, 512)       0         \n",
            "                                                                 \n",
            " conv_dw_10 (DepthwiseConv2  (None, 14, 14, 512)       4608      \n",
            " D)                                                              \n",
            "                                                                 \n",
            " conv_dw_10_bn (BatchNormal  (None, 14, 14, 512)       2048      \n",
            " ization)                                                        \n",
            "                                                                 \n",
            " conv_dw_10_relu (ReLU)      (None, 14, 14, 512)       0         \n",
            "                                                                 \n",
            " conv_pw_10 (Conv2D)         (None, 14, 14, 512)       262144    \n",
            "                                                                 \n",
            " conv_pw_10_bn (BatchNormal  (None, 14, 14, 512)       2048      \n",
            " ization)                                                        \n",
            "                                                                 \n",
            " conv_pw_10_relu (ReLU)      (None, 14, 14, 512)       0         \n",
            "                                                                 \n",
            " conv_dw_11 (DepthwiseConv2  (None, 14, 14, 512)       4608      \n",
            " D)                                                              \n",
            "                                                                 \n",
            " conv_dw_11_bn (BatchNormal  (None, 14, 14, 512)       2048      \n",
            " ization)                                                        \n",
            "                                                                 \n",
            " conv_dw_11_relu (ReLU)      (None, 14, 14, 512)       0         \n",
            "                                                                 \n",
            " conv_pw_11 (Conv2D)         (None, 14, 14, 512)       262144    \n",
            "                                                                 \n",
            " conv_pw_11_bn (BatchNormal  (None, 14, 14, 512)       2048      \n",
            " ization)                                                        \n",
            "                                                                 \n",
            " conv_pw_11_relu (ReLU)      (None, 14, 14, 512)       0         \n",
            "                                                                 \n",
            " conv_pad_12 (ZeroPadding2D  (None, 15, 15, 512)       0         \n",
            " )                                                               \n",
            "                                                                 \n",
            " conv_dw_12 (DepthwiseConv2  (None, 7, 7, 512)         4608      \n",
            " D)                                                              \n",
            "                                                                 \n",
            " conv_dw_12_bn (BatchNormal  (None, 7, 7, 512)         2048      \n",
            " ization)                                                        \n",
            "                                                                 \n",
            " conv_dw_12_relu (ReLU)      (None, 7, 7, 512)         0         \n",
            "                                                                 \n",
            " conv_pw_12 (Conv2D)         (None, 7, 7, 1024)        524288    \n",
            "                                                                 \n",
            " conv_pw_12_bn (BatchNormal  (None, 7, 7, 1024)        4096      \n",
            " ization)                                                        \n",
            "                                                                 \n",
            " conv_pw_12_relu (ReLU)      (None, 7, 7, 1024)        0         \n",
            "                                                                 \n",
            " conv_dw_13 (DepthwiseConv2  (None, 7, 7, 1024)        9216      \n",
            " D)                                                              \n",
            "                                                                 \n",
            " conv_dw_13_bn (BatchNormal  (None, 7, 7, 1024)        4096      \n",
            " ization)                                                        \n",
            "                                                                 \n",
            " conv_dw_13_relu (ReLU)      (None, 7, 7, 1024)        0         \n",
            "                                                                 \n",
            " conv_pw_13 (Conv2D)         (None, 7, 7, 1024)        1048576   \n",
            "                                                                 \n",
            " conv_pw_13_bn (BatchNormal  (None, 7, 7, 1024)        4096      \n",
            " ization)                                                        \n",
            "                                                                 \n",
            " conv_pw_13_relu (ReLU)      (None, 7, 7, 1024)        0         \n",
            "                                                                 \n",
            " flatten_1 (Flatten)         (None, 50176)             0         \n",
            "                                                                 \n",
            " dense_1 (Dense)             (None, 12)                602124    \n",
            "                                                                 \n",
            "=================================================================\n",
            "Total params: 3830988 (14.61 MB)\n",
            "Trainable params: 602124 (2.30 MB)\n",
            "Non-trainable params: 3228864 (12.32 MB)\n",
            "_________________________________________________________________\n"
          ]
        }
      ],
      "source": [
        "model_mobilenet_new_final.summary()"
      ]
    },
    {
      "cell_type": "code",
      "execution_count": 25,
      "metadata": {
        "id": "9QnOAZcXLck8",
        "colab": {
          "base_uri": "https://localhost:8080/"
        },
        "outputId": "979693d9-25d7-489d-ea8f-b01e5921d7bc"
      },
      "outputs": [
        {
          "output_type": "stream",
          "name": "stdout",
          "text": [
            "Found 3013 images belonging to 12 classes.\n"
          ]
        },
        {
          "output_type": "stream",
          "name": "stderr",
          "text": [
            "<ipython-input-25-f70a12e63e33>:7: DeprecationWarning: `np.math` is a deprecated alias for the standard library `math` module (Deprecated Numpy 1.25). Replace usages of `np.math` with `math`\n",
            "  test_steps_per_epoch = np.math.ceil(test_data_generator.samples / test_data_generator.batch_size)\n"
          ]
        }
      ],
      "source": [
        "test_generator = ImageDataGenerator(rescale = 1./255)\n",
        "test_data_generator = test_generator.flow_from_directory(\n",
        "    valid_path,\n",
        "    target_size=(224, 224),\n",
        "    batch_size=32,\n",
        "    shuffle=False)\n",
        "test_steps_per_epoch = np.math.ceil(test_data_generator.samples / test_data_generator.batch_size)\n"
      ]
    },
    {
      "cell_type": "code",
      "execution_count": 26,
      "metadata": {
        "id": "nH3HHkImLck8",
        "colab": {
          "base_uri": "https://localhost:8080/"
        },
        "outputId": "18015449-987d-48b9-f66a-46462167b442"
      },
      "outputs": [
        {
          "output_type": "stream",
          "name": "stdout",
          "text": [
            "95/95 [==============================] - 8s 78ms/step\n"
          ]
        }
      ],
      "source": [
        "predictions = model_mobilenet_new_final.predict(test_data_generator, steps=test_steps_per_epoch)\n"
      ]
    },
    {
      "cell_type": "code",
      "execution_count": 27,
      "metadata": {
        "id": "ZZHAxTa-Lck9",
        "colab": {
          "base_uri": "https://localhost:8080/"
        },
        "outputId": "6b05a2de-4837-4547-f126-236e9280055c"
      },
      "outputs": [
        {
          "output_type": "stream",
          "name": "stdout",
          "text": [
            "[ 0  0  0 ... 11 11 11]\n",
            "[ 0  0  0 ... 11 11 11]\n"
          ]
        }
      ],
      "source": [
        "# Get most likely class\n",
        "predicted_classes = np.argmax(predictions, axis=1)\n",
        "\n",
        "print(test_data_generator.classes)\n",
        "print(predicted_classes)"
      ]
    },
    {
      "cell_type": "code",
      "execution_count": 28,
      "metadata": {
        "id": "syiD3tdPLck9",
        "colab": {
          "base_uri": "https://localhost:8080/"
        },
        "outputId": "738a7942-cd69-4891-b582-adf1b2ee6a2d"
      },
      "outputs": [
        {
          "output_type": "stream",
          "name": "stdout",
          "text": [
            "['Apple_Bad', 'Apple_Good', 'Banana_Bad', 'Banana_Good', 'Guava_Bad', 'Guava_Good', 'Lime_Bad', 'Lime_Good', 'Orange_Bad', 'Orange_Good', 'Pomegranate_Bad', 'Pomegranate_Good']\n"
          ]
        }
      ],
      "source": [
        "true_classes = test_data_generator.classes\n",
        "class_labels = list(test_data_generator.class_indices.keys())\n",
        "print(class_labels)"
      ]
    },
    {
      "cell_type": "code",
      "execution_count": 29,
      "metadata": {
        "id": "FOPtyeMhLck-",
        "colab": {
          "base_uri": "https://localhost:8080/"
        },
        "outputId": "c28e0e92-11bf-4dda-caa9-410b6efcfa36"
      },
      "outputs": [
        {
          "output_type": "stream",
          "name": "stdout",
          "text": [
            "                  precision    recall  f1-score   support\n",
            "\n",
            "       Apple_Bad       0.92      1.00      0.96       250\n",
            "      Apple_Good       1.00      0.91      0.95       250\n",
            "      Banana_Bad       1.00      0.97      0.99       250\n",
            "     Banana_Good       0.97      1.00      0.98       250\n",
            "       Guava_Bad       1.00      0.93      0.96       252\n",
            "      Guava_Good       0.98      1.00      0.99       250\n",
            "        Lime_Bad       1.00      1.00      1.00       250\n",
            "       Lime_Good       1.00      1.00      1.00       250\n",
            "      Orange_Bad       0.98      0.97      0.97       254\n",
            "     Orange_Good       0.94      0.99      0.97       257\n",
            " Pomegranate_Bad       1.00      1.00      1.00       250\n",
            "Pomegranate_Good       0.98      1.00      0.99       250\n",
            "\n",
            "        accuracy                           0.98      3013\n",
            "       macro avg       0.98      0.98      0.98      3013\n",
            "    weighted avg       0.98      0.98      0.98      3013\n",
            "\n",
            "[[250   0   0   0   0   0   0   0   0   0   0   0]\n",
            " [  5 227   0   1   0   5   0   0   1   7   0   4]\n",
            " [  0   0 243   7   0   0   0   0   0   0   0   0]\n",
            " [  0   0   0 250   0   0   0   0   0   0   0   0]\n",
            " [ 17   0   0   0 234   0   0   0   1   0   0   0]\n",
            " [  0   0   0   0   0 249   0   0   1   0   0   0]\n",
            " [  0   0   0   0   0   0 249   0   1   0   0   0]\n",
            " [  0   0   0   0   0   0   0 249   0   1   0   0]\n",
            " [  0   1   0   0   0   0   0   0 246   7   0   0]\n",
            " [  0   0   0   0   0   0   0   0   1 255   0   1]\n",
            " [  0   0   0   0   0   0   0   0   0   0 250   0]\n",
            " [  0   0   0   0   0   0   0   0   0   0   0 250]]\n",
            "0.9797543976103551\n"
          ]
        }
      ],
      "source": [
        "report = classification_report(true_classes, predicted_classes, target_names=class_labels)\n",
        "cmat = confusion_matrix(true_classes, predicted_classes)\n",
        "acc = accuracy_score(true_classes, predicted_classes)\n",
        "print(report)\n",
        "print(cmat)\n",
        "print(acc)"
      ]
    },
    {
      "cell_type": "code",
      "execution_count": 30,
      "metadata": {
        "id": "jN6OrlrjLck_",
        "colab": {
          "base_uri": "https://localhost:8080/",
          "height": 841
        },
        "outputId": "628e8bd5-6bec-499d-8956-b5de643ecb63"
      },
      "outputs": [
        {
          "output_type": "display_data",
          "data": {
            "text/plain": [
              "<Figure size 800x800 with 2 Axes>"
            ],
            "image/png": "[encoded data removed]"
          },
          "metadata": {}
        }
      ],
      "source": [
        "confusion_mtx = confusion_matrix(true_classes, predicted_classes)\n",
        "# plot the confusion matrix\n",
        "f,ax = plt.subplots(figsize=(8, 8))\n",
        "sns.heatmap(confusion_mtx, annot=True, linewidths=0.01,cmap=\"Greens\",linecolor=\"gray\", fmt= '.1f',ax=ax)\n",
        "plt.xlabel(\"Predicted Label\")\n",
        "plt.ylabel(\"True Label\")\n",
        "ax.set_xticklabels(['Apple_Bad','Apple_Good','Banana_Bad', 'Banana_Good', 'Guava_Bad', 'Guava_Good', 'Lime_Bad', 'Lime_Good', 'Orange_Bad', 'Orange_Good', 'Pomegranate_Bad', 'Pomegranate_Good' ])\n",
        "plt.xticks(rotation=90)\n",
        "plt.yticks(rotation=0)\n",
        "ax.set_yticklabels(['Apple_Bad','Apple_Good','Banana_Bad', 'Banana_Good', 'Guava_Bad', 'Guava_Good', 'Lime_Bad', 'Lime_Good', 'Orange_Bad', 'Orange_Good', 'Pomegranate_Bad', 'Pomegranate_Good' ])\n",
        "\n",
        "plt.title(\"Confusion Matrix\")\n",
        "plt.show()"
      ]
    },
    {
      "cell_type": "code",
      "execution_count": 31,
      "metadata": {
        "id": "MbEszqXFLclA"
      },
      "outputs": [],
      "source": [
        "def get_tpr_fnr_fpr_tnr(cm):\n",
        "    \"\"\"\n",
        "    This function returns class-wise TPR, FNR, FPR & TNR\n",
        "    [[cm]]: a 2-D array of a multiclass confusion matrix\n",
        "            where horizontal axes represent actual classes\n",
        "            and vertical axes represent predicted classes\n",
        "    {output}: a dictionary of class-wise accuracy parameters\n",
        "    \"\"\"\n",
        "    dict_metric = dict()\n",
        "    n = len(cm[0])\n",
        "    row_sums = cm.sum(axis=1)\n",
        "    col_sums = cm.sum(axis=0)\n",
        "    array_sum = sum(sum(cm))\n",
        "    #initialize a blank nested dictionary\n",
        "    for i in range(1, n+1):\n",
        "        keys = str(i)\n",
        "        dict_metric[keys] = {\"TPR\":0, \"FNR\":0, \"FPR\":0, \"TNR\":0}\n",
        "    # calculate and store class-wise TPR, FNR, FPR, TNR\n",
        "    for i in range(n):\n",
        "        for j in range(n):\n",
        "            if i == j:\n",
        "                keys = str(i+1)\n",
        "                tp = cm[i, j]\n",
        "                fn = row_sums[i] - cm[i, j]\n",
        "                dict_metric[keys][\"TPR\"] = tp / (tp + fn)\n",
        "                dict_metric[keys][\"FNR\"] = fn / (tp + fn)\n",
        "                fp = col_sums[i] - cm[i, j]\n",
        "                tn = array_sum - tp - fn - fp\n",
        "                dict_metric[keys][\"FPR\"] = fp / (fp + tn)\n",
        "                dict_metric[keys][\"TNR\"] = tn / (fp + tn)\n",
        "    return dict_metric"
      ]
    },
    {
      "cell_type": "code",
      "execution_count": 32,
      "metadata": {
        "id": "pzAL-ORYLclA",
        "colab": {
          "base_uri": "https://localhost:8080/",
          "height": 457
        },
        "outputId": "4b6c8b6f-e619-4f8d-f04f-3e273ac88c72"
      },
      "outputs": [
        {
          "output_type": "execute_result",
          "data": {
            "text/plain": [
              "                       TPR       FNR       FPR       TNR\n",
              "CLASSES                                                 \n",
              "Apple_Bad         1.000000  0.000000  0.007962  0.992038\n",
              "Apple_Good        0.908000  0.092000  0.000362  0.999638\n",
              "Banana_Bad        0.972000  0.028000  0.000000  1.000000\n",
              "Banana_Good       1.000000  0.000000  0.002895  0.997105\n",
              "Guava_Bad         0.928571  0.071429  0.000000  1.000000\n",
              "Guava_Good        0.996000  0.004000  0.001810  0.998190\n",
              "Lime_Bad          0.996000  0.004000  0.000000  1.000000\n",
              "Lime_Good         0.996000  0.004000  0.000000  1.000000\n",
              "Orange_Bad        0.968504  0.031496  0.001812  0.998188\n",
              "Orange_Good       0.992218  0.007782  0.005443  0.994557\n",
              "Pomegranate_Bad   1.000000  0.000000  0.000000  1.000000\n",
              "Pomegranate_Good  1.000000  0.000000  0.001810  0.998190"
            ],
            "text/html": [
              "\n",
              "  <div id=\"df-b6a0db44-76cf-4da4-9183-3d460bdaf062\" class=\"colab-df-container\">\n",
              "    <div>\n",
              "<style scoped>\n",
              "    .dataframe tbody tr th:only-of-type {\n",
              "        vertical-align: middle;\n",
              "    }\n",
              "\n",
              "    .dataframe tbody tr th {\n",
              "        vertical-align: top;\n",
              "    }\n",
              "\n",
              "    .dataframe thead th {\n",
              "        text-align: right;\n",
              "    }\n",
              "</style>\n",
              "<table border=\"1\" class=\"dataframe\">\n",
              "  <thead>\n",
              "    <tr style=\"text-align: right;\">\n",
              "      <th></th>\n",
              "      <th>TPR</th>\n",
              "      <th>FNR</th>\n",
              "      <th>FPR</th>\n",
              "      <th>TNR</th>\n",
              "    </tr>\n",
              "    <tr>\n",
              "      <th>CLASSES</th>\n",
              "      <th></th>\n",
              "      <th></th>\n",
              "      <th></th>\n",
              "      <th></th>\n",
              "    </tr>\n",
              "  </thead>\n",
              "  <tbody>\n",
              "    <tr>\n",
              "      <th>Apple_Bad</th>\n",
              "      <td>1.000000</td>\n",
              "      <td>0.000000</td>\n",
              "      <td>0.007962</td>\n",
              "      <td>0.992038</td>\n",
              "    </tr>\n",
              "    <tr>\n",
              "      <th>Apple_Good</th>\n",
              "      <td>0.908000</td>\n",
              "      <td>0.092000</td>\n",
              "      <td>0.000362</td>\n",
              "      <td>0.999638</td>\n",
              "    </tr>\n",
              "    <tr>\n",
              "      <th>Banana_Bad</th>\n",
              "      <td>0.972000</td>\n",
              "      <td>0.028000</td>\n",
              "      <td>0.000000</td>\n",
              "      <td>1.000000</td>\n",
              "    </tr>\n",
              "    <tr>\n",
              "      <th>Banana_Good</th>\n",
              "      <td>1.000000</td>\n",
              "      <td>0.000000</td>\n",
              "      <td>0.002895</td>\n",
              "      <td>0.997105</td>\n",
              "    </tr>\n",
              "    <tr>\n",
              "      <th>Guava_Bad</th>\n",
              "      <td>0.928571</td>\n",
              "      <td>0.071429</td>\n",
              "      <td>0.000000</td>\n",
              "      <td>1.000000</td>\n",
              "    </tr>\n",
              "    <tr>\n",
              "      <th>Guava_Good</th>\n",
              "      <td>0.996000</td>\n",
              "      <td>0.004000</td>\n",
              "      <td>0.001810</td>\n",
              "      <td>0.998190</td>\n",
              "    </tr>\n",
              "    <tr>\n",
              "      <th>Lime_Bad</th>\n",
              "      <td>0.996000</td>\n",
              "      <td>0.004000</td>\n",
              "      <td>0.000000</td>\n",
              "      <td>1.000000</td>\n",
              "    </tr>\n",
              "    <tr>\n",
              "      <th>Lime_Good</th>\n",
              "      <td>0.996000</td>\n",
              "      <td>0.004000</td>\n",
              "      <td>0.000000</td>\n",
              "      <td>1.000000</td>\n",
              "    </tr>\n",
              "    <tr>\n",
              "      <th>Orange_Bad</th>\n",
              "      <td>0.968504</td>\n",
              "      <td>0.031496</td>\n",
              "      <td>0.001812</td>\n",
              "      <td>0.998188</td>\n",
              "    </tr>\n",
              "    <tr>\n",
              "      <th>Orange_Good</th>\n",
              "      <td>0.992218</td>\n",
              "      <td>0.007782</td>\n",
              "      <td>0.005443</td>\n",
              "      <td>0.994557</td>\n",
              "    </tr>\n",
              "    <tr>\n",
              "      <th>Pomegranate_Bad</th>\n",
              "      <td>1.000000</td>\n",
              "      <td>0.000000</td>\n",
              "      <td>0.000000</td>\n",
              "      <td>1.000000</td>\n",
              "    </tr>\n",
              "    <tr>\n",
              "      <th>Pomegranate_Good</th>\n",
              "      <td>1.000000</td>\n",
              "      <td>0.000000</td>\n",
              "      <td>0.001810</td>\n",
              "      <td>0.998190</td>\n",
              "    </tr>\n",
              "  </tbody>\n",
              "</table>\n",
              "</div>\n",
              "    <div class=\"colab-df-buttons\">\n",
              "\n",
              "  <div class=\"colab-df-container\">\n",
              "    <button class=\"colab-df-convert\" onclick=\"convertToInteractive('df-b6a0db44-76cf-4da4-9183-3d460bdaf062')\"\n",
              "            title=\"Convert this dataframe to an interactive table.\"\n",
              "            style=\"display:none;\">\n",
              "\n",
              "  <svg xmlns=\"http://www.w3.org/2000/svg\" height=\"24px\" viewBox=\"0 -960 960 960\">\n",
              "    <path d=\"M120-120v-720h720v720H120Zm60-500h600v-160H180v160Zm220 220h160v-160H400v160Zm0 220h160v-160H400v160ZM180-400h160v-160H180v160Zm440 0h160v-160H620v160ZM180-180h160v-160H180v160Zm440 0h160v-160H620v160Z\"/>\n",
              "  </svg>\n",
              "    </button>\n",
              "\n",
              "  <style>\n",
              "    .colab-df-container {\n",
              "      display:flex;\n",
              "      gap: 12px;\n",
              "    }\n",
              "\n",
              "    .colab-df-convert {\n",
              "      background-color: #E8F0FE;\n",
              "      border: none;\n",
              "      border-radius: 50%;\n",
              "      cursor: pointer;\n",
              "      display: none;\n",
              "      fill: #1967D2;\n",
              "      height: 32px;\n",
              "      padding: 0 0 0 0;\n",
              "      width: 32px;\n",
              "    }\n",
              "\n",
              "    .colab-df-convert:hover {\n",
              "      background-color: #E2EBFA;\n",
              "      box-shadow: 0px 1px 2px rgba(60, 64, 67, 0.3), 0px 1px 3px 1px rgba(60, 64, 67, 0.15);\n",
              "      fill: #174EA6;\n",
              "    }\n",
              "\n",
              "    .colab-df-buttons div {\n",
              "      margin-bottom: 4px;\n",
              "    }\n",
              "\n",
              "    [theme=dark] .colab-df-convert {\n",
              "      background-color: #3B4455;\n",
              "      fill: #D2E3FC;\n",
              "    }\n",
              "\n",
              "    [theme=dark] .colab-df-convert:hover {\n",
              "      background-color: #434B5C;\n",
              "      box-shadow: 0px 1px 3px 1px rgba(0, 0, 0, 0.15);\n",
              "      filter: drop-shadow(0px 1px 2px rgba(0, 0, 0, 0.3));\n",
              "      fill: #FFFFFF;\n",
              "    }\n",
              "  </style>\n",
              "\n",
              "    <script>\n",
              "      const buttonEl =\n",
              "        document.querySelector('#df-b6a0db44-76cf-4da4-9183-3d460bdaf062 button.colab-df-convert');\n",
              "      buttonEl.style.display =\n",
              "        google.colab.kernel.accessAllowed ? 'block' : 'none';\n",
              "\n",
              "      async function convertToInteractive(key) {\n",
              "        const element = document.querySelector('#df-b6a0db44-76cf-4da4-9183-3d460bdaf062');\n",
              "        const dataTable =\n",
              "          await google.colab.kernel.invokeFunction('convertToInteractive',\n",
              "                                                    [key], {});\n",
              "        if (!dataTable) return;\n",
              "\n",
              "        const docLinkHtml = 'Like what you see? Visit the ' +\n",
              "          '<a target=\"_blank\" href=https://colab.research.google.com/notebooks/data_table.ipynb>data table notebook</a>'\n",
              "          + ' to learn more about interactive tables.';\n",
              "        element.innerHTML = '';\n",
              "        dataTable['output_type'] = 'display_data';\n",
              "        await google.colab.output.renderOutput(dataTable, element);\n",
              "        const docLink = document.createElement('div');\n",
              "        docLink.innerHTML = docLinkHtml;\n",
              "        element.appendChild(docLink);\n",
              "      }\n",
              "    </script>\n",
              "  </div>\n",
              "\n",
              "\n",
              "<div id=\"df-365bf7a7-71d6-4f10-9e7f-a8c738be6aef\">\n",
              "  <button class=\"colab-df-quickchart\" onclick=\"quickchart('df-365bf7a7-71d6-4f10-9e7f-a8c738be6aef')\"\n",
              "            title=\"Suggest charts\"\n",
              "            style=\"display:none;\">\n",
              "\n",
              "<svg xmlns=\"http://www.w3.org/2000/svg\" height=\"24px\"viewBox=\"0 0 24 24\"\n",
              "     width=\"24px\">\n",
              "    <g>\n",
              "        <path d=\"M19 3H5c-1.1 0-2 .9-2 2v14c0 1.1.9 2 2 2h14c1.1 0 2-.9 2-2V5c0-1.1-.9-2-2-2zM9 17H7v-7h2v7zm4 0h-2V7h2v10zm4 0h-2v-4h2v4z\"/>\n",
              "    </g>\n",
              "</svg>\n",
              "  </button>\n",
              "\n",
              "<style>\n",
              "  .colab-df-quickchart {\n",
              "      --bg-color: #E8F0FE;\n",
              "      --fill-color: #1967D2;\n",
              "      --hover-bg-color: #E2EBFA;\n",
              "      --hover-fill-color: #174EA6;\n",
              "      --disabled-fill-color: #AAA;\n",
              "      --disabled-bg-color: #DDD;\n",
              "  }\n",
              "\n",
              "  [theme=dark] .colab-df-quickchart {\n",
              "      --bg-color: #3B4455;\n",
              "      --fill-color: #D2E3FC;\n",
              "      --hover-bg-color: #434B5C;\n",
              "      --hover-fill-color: #FFFFFF;\n",
              "      --disabled-bg-color: #3B4455;\n",
              "      --disabled-fill-color: #666;\n",
              "  }\n",
              "\n",
              "  .colab-df-quickchart {\n",
              "    background-color: var(--bg-color);\n",
              "    border: none;\n",
              "    border-radius: 50%;\n",
              "    cursor: pointer;\n",
              "    display: none;\n",
              "    fill: var(--fill-color);\n",
              "    height: 32px;\n",
              "    padding: 0;\n",
              "    width: 32px;\n",
              "  }\n",
              "\n",
              "  .colab-df-quickchart:hover {\n",
              "    background-color: var(--hover-bg-color);\n",
              "    box-shadow: 0 1px 2px rgba(60, 64, 67, 0.3), 0 1px 3px 1px rgba(60, 64, 67, 0.15);\n",
              "    fill: var(--button-hover-fill-color);\n",
              "  }\n",
              "\n",
              "  .colab-df-quickchart-complete:disabled,\n",
              "  .colab-df-quickchart-complete:disabled:hover {\n",
              "    background-color: var(--disabled-bg-color);\n",
              "    fill: var(--disabled-fill-color);\n",
              "    box-shadow: none;\n",
              "  }\n",
              "\n",
              "  .colab-df-spinner {\n",
              "    border: 2px solid var(--fill-color);\n",
              "    border-color: transparent;\n",
              "    border-bottom-color: var(--fill-color);\n",
              "    animation:\n",
              "      spin 1s steps(1) infinite;\n",
              "  }\n",
              "\n",
              "  @keyframes spin {\n",
              "    0% {\n",
              "      border-color: transparent;\n",
              "      border-bottom-color: var(--fill-color);\n",
              "      border-left-color: var(--fill-color);\n",
              "    }\n",
              "    20% {\n",
              "      border-color: transparent;\n",
              "      border-left-color: var(--fill-color);\n",
              "      border-top-color: var(--fill-color);\n",
              "    }\n",
              "    30% {\n",
              "      border-color: transparent;\n",
              "      border-left-color: var(--fill-color);\n",
              "      border-top-color: var(--fill-color);\n",
              "      border-right-color: var(--fill-color);\n",
              "    }\n",
              "    40% {\n",
              "      border-color: transparent;\n",
              "      border-right-color: var(--fill-color);\n",
              "      border-top-color: var(--fill-color);\n",
              "    }\n",
              "    60% {\n",
              "      border-color: transparent;\n",
              "      border-right-color: var(--fill-color);\n",
              "    }\n",
              "    80% {\n",
              "      border-color: transparent;\n",
              "      border-right-color: var(--fill-color);\n",
              "      border-bottom-color: var(--fill-color);\n",
              "    }\n",
              "    90% {\n",
              "      border-color: transparent;\n",
              "      border-bottom-color: var(--fill-color);\n",
              "    }\n",
              "  }\n",
              "</style>\n",
              "\n",
              "  <script>\n",
              "    async function quickchart(key) {\n",
              "      const quickchartButtonEl =\n",
              "        document.querySelector('#' + key + ' button');\n",
              "      quickchartButtonEl.disabled = true;  // To prevent multiple clicks.\n",
              "      quickchartButtonEl.classList.add('colab-df-spinner');\n",
              "      try {\n",
              "        const charts = await google.colab.kernel.invokeFunction(\n",
              "            'suggestCharts', [key], {});\n",
              "      } catch (error) {\n",
              "        console.error('Error during call to suggestCharts:', error);\n",
              "      }\n",
              "      quickchartButtonEl.classList.remove('colab-df-spinner');\n",
              "      quickchartButtonEl.classList.add('colab-df-quickchart-complete');\n",
              "    }\n",
              "    (() => {\n",
              "      let quickchartButtonEl =\n",
              "        document.querySelector('#df-365bf7a7-71d6-4f10-9e7f-a8c738be6aef button');\n",
              "      quickchartButtonEl.style.display =\n",
              "        google.colab.kernel.accessAllowed ? 'block' : 'none';\n",
              "    })();\n",
              "  </script>\n",
              "</div>\n",
              "\n",
              "  <div id=\"id_57763cbd-2ef3-4465-a9a2-1450578fb7cd\">\n",
              "    <style>\n",
              "      .colab-df-generate {\n",
              "        background-color: #E8F0FE;\n",
              "        border: none;\n",
              "        border-radius: 50%;\n",
              "        cursor: pointer;\n",
              "        display: none;\n",
              "        fill: #1967D2;\n",
              "        height: 32px;\n",
              "        padding: 0 0 0 0;\n",
              "        width: 32px;\n",
              "      }\n",
              "\n",
              "      .colab-df-generate:hover {\n",
              "        background-color: #E2EBFA;\n",
              "        box-shadow: 0px 1px 2px rgba(60, 64, 67, 0.3), 0px 1px 3px 1px rgba(60, 64, 67, 0.15);\n",
              "        fill: #174EA6;\n",
              "      }\n",
              "\n",
              "      [theme=dark] .colab-df-generate {\n",
              "        background-color: #3B4455;\n",
              "        fill: #D2E3FC;\n",
              "      }\n",
              "\n",
              "      [theme=dark] .colab-df-generate:hover {\n",
              "        background-color: #434B5C;\n",
              "        box-shadow: 0px 1px 3px 1px rgba(0, 0, 0, 0.15);\n",
              "        filter: drop-shadow(0px 1px 2px rgba(0, 0, 0, 0.3));\n",
              "        fill: #FFFFFF;\n",
              "      }\n",
              "    </style>\n",
              "    <button class=\"colab-df-generate\" onclick=\"generateWithVariable('df')\"\n",
              "            title=\"Generate code using this dataframe.\"\n",
              "            style=\"display:none;\">\n",
              "\n",
              "  <svg xmlns=\"http://www.w3.org/2000/svg\" height=\"24px\"viewBox=\"0 0 24 24\"\n",
              "       width=\"24px\">\n",
              "    <path d=\"M7,19H8.4L18.45,9,17,7.55,7,17.6ZM5,21V16.75L18.45,3.32a2,2,0,0,1,2.83,0l1.4,1.43a1.91,1.91,0,0,1,.58,1.4,1.91,1.91,0,0,1-.58,1.4L9.25,21ZM18.45,9,17,7.55Zm-12,3A5.31,5.31,0,0,0,4.9,8.1,5.31,5.31,0,0,0,1,6.5,5.31,5.31,0,0,0,4.9,4.9,5.31,5.31,0,0,0,6.5,1,5.31,5.31,0,0,0,8.1,4.9,5.31,5.31,0,0,0,12,6.5,5.46,5.46,0,0,0,6.5,12Z\"/>\n",
              "  </svg>\n",
              "    </button>\n",
              "    <script>\n",
              "      (() => {\n",
              "      const buttonEl =\n",
              "        document.querySelector('#id_57763cbd-2ef3-4465-a9a2-1450578fb7cd button.colab-df-generate');\n",
              "      buttonEl.style.display =\n",
              "        google.colab.kernel.accessAllowed ? 'block' : 'none';\n",
              "\n",
              "      buttonEl.onclick = () => {\n",
              "        google.colab.notebook.generateWithVariable('df');\n",
              "      }\n",
              "      })();\n",
              "    </script>\n",
              "  </div>\n",
              "\n",
              "    </div>\n",
              "  </div>\n"
            ],
            "application/vnd.google.colaboratory.intrinsic+json": {
              "type": "dataframe",
              "variable_name": "df",
              "summary": "{\n  \"name\": \"df\",\n  \"rows\": 12,\n  \"fields\": [\n    {\n      \"column\": \"CLASSES\",\n      \"properties\": {\n        \"dtype\": \"string\",\n        \"num_unique_values\": 12,\n        \"samples\": [\n          \"Pomegranate_Bad\",\n          \"Orange_Good\",\n          \"Apple_Bad\"\n        ],\n        \"semantic_type\": \"\",\n        \"description\": \"\"\n      }\n    },\n    {\n      \"column\": \"TPR\",\n      \"properties\": {\n        \"dtype\": \"number\",\n        \"std\": 0.03095704346435415,\n        \"min\": 0.908,\n        \"max\": 1.0,\n        \"num_unique_values\": 7,\n        \"samples\": [\n          1.0,\n          0.908,\n          0.968503937007874\n        ],\n        \"semantic_type\": \"\",\n        \"description\": \"\"\n      }\n    },\n    {\n      \"column\": \"FNR\",\n      \"properties\": {\n        \"dtype\": \"number\",\n        \"std\": 0.03095704346435416,\n        \"min\": 0.0,\n        \"max\": 0.092,\n        \"num_unique_values\": 7,\n        \"samples\": [\n          0.0,\n          0.092,\n          0.031496062992125984\n        ],\n        \"semantic_type\": \"\",\n        \"description\": \"\"\n      }\n    },\n    {\n      \"column\": \"FPR\",\n      \"properties\": {\n        \"dtype\": \"number\",\n        \"std\": 0.002535057897965845,\n        \"min\": 0.0,\n        \"max\": 0.007962359753890699,\n        \"num_unique_values\": 7,\n        \"samples\": [\n          0.007962359753890699,\n          0.0003619254433586681,\n          0.001812250815512867\n        ],\n        \"semantic_type\": \"\",\n        \"description\": \"\"\n      }\n    },\n    {\n      \"column\": \"TNR\",\n      \"properties\": {\n        \"dtype\": \"number\",\n        \"std\": 0.002535057897965851,\n        \"min\": 0.9920376402461093,\n        \"max\": 1.0,\n        \"num_unique_values\": 7,\n        \"samples\": [\n          0.9920376402461093,\n          0.9996380745566413,\n          0.9981877491844872\n        ],\n        \"semantic_type\": \"\",\n        \"description\": \"\"\n      }\n    }\n  ]\n}"
            }
          },
          "metadata": {},
          "execution_count": 32
        }
      ],
      "source": [
        "import pandas as pd\n",
        "df = pd.DataFrame(get_tpr_fnr_fpr_tnr(confusion_mtx)).transpose()\n",
        "classes = ['Apple_Bad','Apple_Good','Banana_Bad', 'Banana_Good', 'Guava_Bad', 'Guava_Good', 'Lime_Bad', 'Lime_Good', 'Orange_Bad', 'Orange_Good', 'Pomegranate_Bad', 'Pomegranate_Good' ]\n",
        "df['CLASSES'] = classes\n",
        "df.set_index('CLASSES', inplace=True)\n",
        "df"
      ]
    },
    {
      "cell_type": "code",
      "execution_count": 33,
      "metadata": {
        "id": "7pBUEpFJLclB"
      },
      "outputs": [],
      "source": [
        "# converter = tf.lite.TFLiteConverter.from_keras_model(model_mobilenet_new_final)\n",
        "# tflite_model = converter.convert()\n",
        "\n",
        "# with open(\"model.tflite\", \"wb\") as f:\n",
        "#     f.write(tflite_model)"
      ]
    },
    {
      "cell_type": "code",
      "execution_count": 34,
      "metadata": {
        "id": "4drJkSa7LclB",
        "colab": {
          "base_uri": "https://localhost:8080/"
        },
        "outputId": "1984fa2d-f864-45fd-bd07-65fe0c2d4cd7"
      },
      "outputs": [
        {
          "output_type": "stream",
          "name": "stdout",
          "text": [
            "Mobilenet analysis: \n",
            "TPR average:  0.9797744387009989\n",
            "FPR average:  0.0018411553775190348\n",
            "TNR average:  0.998158844622481\n",
            "FNR average:  0.02022556129900105\n"
          ]
        }
      ],
      "source": [
        "print(\"Mobilenet analysis: \")\n",
        "print(\"TPR average: \",df[\"TPR\"].mean())\n",
        "print(\"FPR average: \",df[\"FPR\"].mean())\n",
        "print(\"TNR average: \",df[\"TNR\"].mean())\n",
        "print(\"FNR average: \",df[\"FNR\"].mean())"
      ]
    }
  ],
  "metadata": {
    "accelerator": "GPU",
    "colab": {
      "gpuType": "T4",
      "provenance": []
    },
    "kernelspec": {
      "display_name": "Python 3",
      "name": "python3"
    },
    "language_info": {
      "codemirror_mode": {
        "name": "ipython",
        "version": 3
      },
      "file_extension": ".py",
      "mimetype": "text/x-python",
      "name": "python",
      "nbconvert_exporter": "python",
      "pygments_lexer": "ipython3",
      "version": "3.9.0"
    },
    "vscode": {
      "interpreter": {
        "hash": "8f8cf99212f81ad0c4765861267244807ee1c18364846cdce387b28994a977ba"
      }
    }
  },
  "nbformat": 4,
  "nbformat_minor": 0
}